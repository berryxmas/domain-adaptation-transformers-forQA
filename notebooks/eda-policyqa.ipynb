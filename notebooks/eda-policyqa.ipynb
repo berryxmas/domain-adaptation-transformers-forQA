{
 "cells": [
  {
   "cell_type": "markdown",
   "metadata": {},
   "source": [
    "![Rijksoverheid logo](https://www.rijksoverheid.nl/binaries/content/gallery/rijksoverheid/channel-afbeeldingen/logos/logo-ro.svg)\n",
    "\n",
    "# Dutch Government Policy QA dataset\n",
    "This dataset is open-source and can be found on the open data portal of the [Rijksoverheid](https://www.rijksoverheid.nl/opendata/vac-s). It contains up to 2500 frequently asked questions of Dutch citizens. The questions are concerned with Dutch government policies and contain topics like \"Belasting\", \"Asbest\", or \"Klimaat\".<br>\n",
    "More info about the status and contact information can be found [here](https://data.overheid.nl/dataset/vraag-antwoordcombinaties-van-rijksoverheid-nl#panel-description). <br><br>\n",
    "\n",
    "**How to use:** <br>\n",
    "It is best to use Google Colab and run the notebook to get results.\n",
    "\n",
    "[![Open In Colab](https://colab.research.google.com/assets/colab-badge.svg)](https://colab.research.google.com/github/berryyblom/domain-adaptation-transformers-forQA/blob/main/notebooks/eda-policyqa.ipynb)"
   ]
  },
  {
   "cell_type": "markdown",
   "metadata": {},
   "source": [
    "### In this notebook:\n",
    "- The Dutch policy QA data is imported via api with a crawler\n",
    "- Initial EDA is performed to check the size, completeness, and volume\n",
    "- The neccessary columns are exported as a csv\n",
    "- A short answer is retrieved manually from the context\n",
    "- Extra EDA is performed with on the final dataset\n",
    "- The PolicyQA dataset is converted to the correct input for the QA model by using our DF to JSON converter\n",
    "- The PolicyQA dataset in JSON format is used as input for the model"
   ]
  },
  {
   "cell_type": "code",
   "execution_count": null,
   "metadata": {},
   "outputs": [],
   "source": [
    "# if using Colab, install necessary libraries\n",
    "%pip install transformers\n",
    "!python -m pip install seaborn"
   ]
  },
  {
   "cell_type": "code",
   "execution_count": 2,
   "metadata": {},
   "outputs": [],
   "source": [
    "# Import libraries\n",
    "import requests\n",
    "import pandas as pd\n",
    "import numpy as np\n",
    "from pandas.io.json import json_normalize\n",
    "import json\n",
    "import time\n",
    "import matplotlib as plt\n",
    "import matplotlib.pyplot as plt"
   ]
  },
  {
   "cell_type": "markdown",
   "metadata": {},
   "source": [
    "## Import Data\n",
    "First the data is imported using crawler.py <br>\n",
    "Then the data is checked for volume, completeness etc."
   ]
  },
  {
   "cell_type": "code",
   "execution_count": null,
   "metadata": {},
   "outputs": [],
   "source": [
    "# Run crawler\n",
    "!python3 /scripts/crawler.py"
   ]
  },
  {
   "cell_type": "code",
   "execution_count": 14,
   "metadata": {},
   "outputs": [
    {
     "data": {
      "text/html": [
       "<div>\n",
       "<style scoped>\n",
       "    .dataframe tbody tr th:only-of-type {\n",
       "        vertical-align: middle;\n",
       "    }\n",
       "\n",
       "    .dataframe tbody tr th {\n",
       "        vertical-align: top;\n",
       "    }\n",
       "\n",
       "    .dataframe thead th {\n",
       "        text-align: right;\n",
       "    }\n",
       "</style>\n",
       "<table border=\"1\" class=\"dataframe\">\n",
       "  <thead>\n",
       "    <tr style=\"text-align: right;\">\n",
       "      <th></th>\n",
       "      <th>Unnamed: 0</th>\n",
       "      <th>id</th>\n",
       "      <th>type</th>\n",
       "      <th>canonical</th>\n",
       "      <th>dataurl</th>\n",
       "      <th>question</th>\n",
       "      <th>introduction</th>\n",
       "      <th>content</th>\n",
       "      <th>authorities</th>\n",
       "      <th>subjects</th>\n",
       "      <th>themes</th>\n",
       "      <th>organisationalunits</th>\n",
       "      <th>lastmodified</th>\n",
       "      <th>license</th>\n",
       "      <th>rightsholders</th>\n",
       "      <th>language</th>\n",
       "      <th>location</th>\n",
       "    </tr>\n",
       "  </thead>\n",
       "  <tbody>\n",
       "    <tr>\n",
       "      <th>0</th>\n",
       "      <td>0</td>\n",
       "      <td>b98b7797-7d40-43a7-bc6d-bf7f96d31dd0</td>\n",
       "      <td>vraag en antwoord</td>\n",
       "      <td>https://www.rijksoverheid.nl/onderwerpen/inkom...</td>\n",
       "      <td>https://opendata.rijksoverheid.nl/v1/sources/r...</td>\n",
       "      <td>Hoe lang moet ik mijn financiële administratie...</td>\n",
       "      <td>&lt;p&gt;Voor particulieren geldt geen wettelijke be...</td>\n",
       "      <td>[{'paragraphtitle': 'Geen bewaarplicht voor pa...</td>\n",
       "      <td>['Ministerie van Financiën']</td>\n",
       "      <td>['Inkomstenbelasting', 'Zelfstandigen zonder p...</td>\n",
       "      <td>['Economie', 'Belastingen, uitkeringen en toes...</td>\n",
       "      <td>['Ministerie van Financiën']</td>\n",
       "      <td>2021-09-06T12:18:10.872Z</td>\n",
       "      <td>CC0 1.0 Universal</td>\n",
       "      <td>['Ministerie van Algemene Zaken']</td>\n",
       "      <td>nl-NL</td>\n",
       "      <td>Nederland</td>\n",
       "    </tr>\n",
       "    <tr>\n",
       "      <th>1</th>\n",
       "      <td>0</td>\n",
       "      <td>a59a7ef3-8c7c-4d38-9a6a-142a9fca6eec</td>\n",
       "      <td>vraag en antwoord</td>\n",
       "      <td>https://www.rijksoverheid.nl/onderwerpen/belas...</td>\n",
       "      <td>https://opendata.rijksoverheid.nl/v1/sources/r...</td>\n",
       "      <td>Wat is een belastingverdrag?</td>\n",
       "      <td>&lt;p&gt;Een belastingverdrag is een overeenkomst tu...</td>\n",
       "      <td>[{'paragraphtitle': 'Toepassen van het belasti...</td>\n",
       "      <td>['Ministerie van Financiën']</td>\n",
       "      <td>['Belastingverdragen']</td>\n",
       "      <td>['Belastingen, uitkeringen en toeslagen', 'Int...</td>\n",
       "      <td>['Ministerie van Financiën']</td>\n",
       "      <td>2020-06-22T13:12:15.045Z</td>\n",
       "      <td>CC0 1.0 Universal</td>\n",
       "      <td>['Ministerie van Algemene Zaken']</td>\n",
       "      <td>nl-NL</td>\n",
       "      <td>Nederland</td>\n",
       "    </tr>\n",
       "    <tr>\n",
       "      <th>2</th>\n",
       "      <td>0</td>\n",
       "      <td>193accef-6ff6-4a05-a89c-b6ff37389745</td>\n",
       "      <td>vraag en antwoord</td>\n",
       "      <td>https://www.rijksoverheid.nl/onderwerpen/paspo...</td>\n",
       "      <td>https://opendata.rijksoverheid.nl/v1/sources/r...</td>\n",
       "      <td>Is mijn beschadigde paspoort of identiteitskaa...</td>\n",
       "      <td>&lt;p&gt;Zijn de echtheidskenmerken van uw paspoort ...</td>\n",
       "      <td>[{'paragraphtitle': 'Nieuw reisdocument aanvra...</td>\n",
       "      <td>['Ministerie van Binnenlandse Zaken en Koninkr...</td>\n",
       "      <td>['Paspoort en identiteitskaart']</td>\n",
       "      <td>['Migratie en reizen', 'Recht, veiligheid en d...</td>\n",
       "      <td>['Ministerie van Binnenlandse Zaken en Koninkr...</td>\n",
       "      <td>2018-01-03T10:05:53.606Z</td>\n",
       "      <td>CC0 1.0 Universal</td>\n",
       "      <td>['Ministerie van Algemene Zaken']</td>\n",
       "      <td>nl-NL</td>\n",
       "      <td>Nederland</td>\n",
       "    </tr>\n",
       "    <tr>\n",
       "      <th>3</th>\n",
       "      <td>0</td>\n",
       "      <td>913baae5-4e13-4270-bab2-d8035a15f032</td>\n",
       "      <td>vraag en antwoord</td>\n",
       "      <td>https://www.rijksoverheid.nl/onderwerpen/besch...</td>\n",
       "      <td>https://opendata.rijksoverheid.nl/v1/sources/r...</td>\n",
       "      <td>Moet een bank een kopie van mijn paspoort make...</td>\n",
       "      <td>&lt;p&gt;Banken en financiële dienstverleners zijn n...</td>\n",
       "      <td>[{'paragraphtitle': 'Financiële instelling doe...</td>\n",
       "      <td>['Ministerie van Financiën']</td>\n",
       "      <td>['Bescherming van consumenten', 'Financiële se...</td>\n",
       "      <td>['Economie', 'Recht, veiligheid en defensie']</td>\n",
       "      <td>['Ministerie van Financiën']</td>\n",
       "      <td>2022-02-04T12:48:50.668Z</td>\n",
       "      <td>CC0 1.0 Universal</td>\n",
       "      <td>['Ministerie van Algemene Zaken']</td>\n",
       "      <td>nl-NL</td>\n",
       "      <td>Nederland</td>\n",
       "    </tr>\n",
       "    <tr>\n",
       "      <th>4</th>\n",
       "      <td>0</td>\n",
       "      <td>1c255df3-9d57-4d26-a4d9-7637b54d47e6</td>\n",
       "      <td>vraag en antwoord</td>\n",
       "      <td>https://www.rijksoverheid.nl/onderwerpen/geldz...</td>\n",
       "      <td>https://opendata.rijksoverheid.nl/v1/sources/r...</td>\n",
       "      <td>Waarom is de euro ingevoerd?</td>\n",
       "      <td>&lt;p&gt;Er zijn een aantal redenen voor de invoerin...</td>\n",
       "      <td>[{'paragraphtitle': 'Einde aan schommelende wi...</td>\n",
       "      <td>['Ministerie van Financiën']</td>\n",
       "      <td>['Geldzaken', 'Financiën Europese Unie']</td>\n",
       "      <td>['Economie', 'Internationale samenwerking']</td>\n",
       "      <td>['Ministerie van Financiën']</td>\n",
       "      <td>2021-08-24T08:34:50.465Z</td>\n",
       "      <td>CC0 1.0 Universal</td>\n",
       "      <td>['Ministerie van Algemene Zaken']</td>\n",
       "      <td>nl-NL</td>\n",
       "      <td>Nederland</td>\n",
       "    </tr>\n",
       "  </tbody>\n",
       "</table>\n",
       "</div>"
      ],
      "text/plain": [
       "   Unnamed: 0                                    id               type  \\\n",
       "0           0  b98b7797-7d40-43a7-bc6d-bf7f96d31dd0  vraag en antwoord   \n",
       "1           0  a59a7ef3-8c7c-4d38-9a6a-142a9fca6eec  vraag en antwoord   \n",
       "2           0  193accef-6ff6-4a05-a89c-b6ff37389745  vraag en antwoord   \n",
       "3           0  913baae5-4e13-4270-bab2-d8035a15f032  vraag en antwoord   \n",
       "4           0  1c255df3-9d57-4d26-a4d9-7637b54d47e6  vraag en antwoord   \n",
       "\n",
       "                                           canonical  \\\n",
       "0  https://www.rijksoverheid.nl/onderwerpen/inkom...   \n",
       "1  https://www.rijksoverheid.nl/onderwerpen/belas...   \n",
       "2  https://www.rijksoverheid.nl/onderwerpen/paspo...   \n",
       "3  https://www.rijksoverheid.nl/onderwerpen/besch...   \n",
       "4  https://www.rijksoverheid.nl/onderwerpen/geldz...   \n",
       "\n",
       "                                             dataurl  \\\n",
       "0  https://opendata.rijksoverheid.nl/v1/sources/r...   \n",
       "1  https://opendata.rijksoverheid.nl/v1/sources/r...   \n",
       "2  https://opendata.rijksoverheid.nl/v1/sources/r...   \n",
       "3  https://opendata.rijksoverheid.nl/v1/sources/r...   \n",
       "4  https://opendata.rijksoverheid.nl/v1/sources/r...   \n",
       "\n",
       "                                            question  \\\n",
       "0  Hoe lang moet ik mijn financiële administratie...   \n",
       "1                       Wat is een belastingverdrag?   \n",
       "2  Is mijn beschadigde paspoort of identiteitskaa...   \n",
       "3  Moet een bank een kopie van mijn paspoort make...   \n",
       "4                       Waarom is de euro ingevoerd?   \n",
       "\n",
       "                                        introduction  \\\n",
       "0  <p>Voor particulieren geldt geen wettelijke be...   \n",
       "1  <p>Een belastingverdrag is een overeenkomst tu...   \n",
       "2  <p>Zijn de echtheidskenmerken van uw paspoort ...   \n",
       "3  <p>Banken en financiële dienstverleners zijn n...   \n",
       "4  <p>Er zijn een aantal redenen voor de invoerin...   \n",
       "\n",
       "                                             content  \\\n",
       "0  [{'paragraphtitle': 'Geen bewaarplicht voor pa...   \n",
       "1  [{'paragraphtitle': 'Toepassen van het belasti...   \n",
       "2  [{'paragraphtitle': 'Nieuw reisdocument aanvra...   \n",
       "3  [{'paragraphtitle': 'Financiële instelling doe...   \n",
       "4  [{'paragraphtitle': 'Einde aan schommelende wi...   \n",
       "\n",
       "                                         authorities  \\\n",
       "0                       ['Ministerie van Financiën']   \n",
       "1                       ['Ministerie van Financiën']   \n",
       "2  ['Ministerie van Binnenlandse Zaken en Koninkr...   \n",
       "3                       ['Ministerie van Financiën']   \n",
       "4                       ['Ministerie van Financiën']   \n",
       "\n",
       "                                            subjects  \\\n",
       "0  ['Inkomstenbelasting', 'Zelfstandigen zonder p...   \n",
       "1                             ['Belastingverdragen']   \n",
       "2                   ['Paspoort en identiteitskaart']   \n",
       "3  ['Bescherming van consumenten', 'Financiële se...   \n",
       "4           ['Geldzaken', 'Financiën Europese Unie']   \n",
       "\n",
       "                                              themes  \\\n",
       "0  ['Economie', 'Belastingen, uitkeringen en toes...   \n",
       "1  ['Belastingen, uitkeringen en toeslagen', 'Int...   \n",
       "2  ['Migratie en reizen', 'Recht, veiligheid en d...   \n",
       "3      ['Economie', 'Recht, veiligheid en defensie']   \n",
       "4        ['Economie', 'Internationale samenwerking']   \n",
       "\n",
       "                                 organisationalunits  \\\n",
       "0                       ['Ministerie van Financiën']   \n",
       "1                       ['Ministerie van Financiën']   \n",
       "2  ['Ministerie van Binnenlandse Zaken en Koninkr...   \n",
       "3                       ['Ministerie van Financiën']   \n",
       "4                       ['Ministerie van Financiën']   \n",
       "\n",
       "               lastmodified            license  \\\n",
       "0  2021-09-06T12:18:10.872Z  CC0 1.0 Universal   \n",
       "1  2020-06-22T13:12:15.045Z  CC0 1.0 Universal   \n",
       "2  2018-01-03T10:05:53.606Z  CC0 1.0 Universal   \n",
       "3  2022-02-04T12:48:50.668Z  CC0 1.0 Universal   \n",
       "4  2021-08-24T08:34:50.465Z  CC0 1.0 Universal   \n",
       "\n",
       "                       rightsholders language   location  \n",
       "0  ['Ministerie van Algemene Zaken']    nl-NL  Nederland  \n",
       "1  ['Ministerie van Algemene Zaken']    nl-NL  Nederland  \n",
       "2  ['Ministerie van Algemene Zaken']    nl-NL  Nederland  \n",
       "3  ['Ministerie van Algemene Zaken']    nl-NL  Nederland  \n",
       "4  ['Ministerie van Algemene Zaken']    nl-NL  Nederland  "
      ]
     },
     "execution_count": 14,
     "metadata": {},
     "output_type": "execute_result"
    }
   ],
   "source": [
    "# Import csv\n",
    "dfraw = pd.read_csv('../data/policyqa-raw.csv')\n",
    "dfraw.head()"
   ]
  },
  {
   "cell_type": "markdown",
   "metadata": {},
   "source": [
    "## Initial EDA\n",
    "EDA performed on the raw data"
   ]
  },
  {
   "cell_type": "code",
   "execution_count": 15,
   "metadata": {},
   "outputs": [
    {
     "name": "stdout",
     "output_type": "stream",
     "text": [
      "<class 'pandas.core.frame.DataFrame'>\n",
      "RangeIndex: 1988 entries, 0 to 1987\n",
      "Data columns (total 17 columns):\n",
      " #   Column               Non-Null Count  Dtype \n",
      "---  ------               --------------  ----- \n",
      " 0   Unnamed: 0           1988 non-null   int64 \n",
      " 1   id                   1988 non-null   object\n",
      " 2   type                 1988 non-null   object\n",
      " 3   canonical            1988 non-null   object\n",
      " 4   dataurl              1988 non-null   object\n",
      " 5   question             1988 non-null   object\n",
      " 6   introduction         1981 non-null   object\n",
      " 7   content              1917 non-null   object\n",
      " 8   authorities          1988 non-null   object\n",
      " 9   subjects             1978 non-null   object\n",
      " 10  themes               1978 non-null   object\n",
      " 11  organisationalunits  1988 non-null   object\n",
      " 12  lastmodified         1988 non-null   object\n",
      " 13  license              1988 non-null   object\n",
      " 14  rightsholders        1988 non-null   object\n",
      " 15  language             1988 non-null   object\n",
      " 16  location             1988 non-null   object\n",
      "dtypes: int64(1), object(16)\n",
      "memory usage: 264.2+ KB\n"
     ]
    }
   ],
   "source": [
    "# Check info\n",
    "dfraw.info()"
   ]
  },
  {
   "cell_type": "code",
   "execution_count": 67,
   "metadata": {},
   "outputs": [
    {
     "data": {
      "text/plain": [
       "'[{\\'paragraphtitle\\': \\'Geen bewaarplicht voor particulieren\\', \\'paragraph\\': \\'<p>Particulieren hoeven hun administratieve gegevens (zoals bankafschriften en loonstrookjes) niet verplicht te bewaren. Maar de Belastingdienst mag tot 5 jaar terug belasting navorderen. Daarom is het verstandig om uw administratie in ieder geval 5 jaar te bewaren. Dan heeft u bewijs als u het niet eens bent met de navordering.</p>\\'}, {\\'paragraphtitle\\': \\'Bewaarplicht financiële gegevens van bedrijven\\', \\'paragraph\\': \\'<p>Bedrijven en zelfstandigen moeten hun administratie 7 jaar bewaren. Dit staat in de wet. Er zijn ook gegevens die een bedrijf 10 jaar moet bewaren. Op de website van de Belastingdienst staat <a href=\"https://www.belastingdienst.nl/wps/wcm/connect/bldcontentnl/belastingdienst/zakelijk/btw/administratie_bijhouden/administratie_bewaren/\">welke administratieve gegevens u moet bewaren en hoe lang</a>.</p>\\'}]'"
      ]
     },
     "execution_count": 67,
     "metadata": {},
     "output_type": "execute_result"
    }
   ],
   "source": [
    "dfraw['content'][0]"
   ]
  },
  {
   "cell_type": "markdown",
   "metadata": {},
   "source": [
    "## Raw conclusion\n",
    "* By inspecting the data we can see the actual answer does only appear in the Introduction column for around 50% of the time.\n",
    "* The actual answer is always in the Introduction column and the Content column is supplementary to the answer.\n",
    "* Therefor the data is exported with the necessary columns\n",
    "* We add supplementary annotations by adding a short answer, which is derived from the Introduction column (the actual answer, supplied by domain experts)"
   ]
  },
  {
   "cell_type": "code",
   "execution_count": null,
   "metadata": {},
   "outputs": [],
   "source": [
    "# Take first 7 columns\n",
    "dfraw = dfraw.iloc[:, 0:7]\n",
    "# Remove column 3 and 4\n",
    "dfraw = dfraw.drop(columns=[\"canonical\", \"dataurl\"])\n",
    "# Export to csv\n",
    "dfraw.to_csv('policyqa-raw.csv', encoding = 'utf-8-sig') "
   ]
  },
  {
   "cell_type": "markdown",
   "metadata": {},
   "source": [
    "## EDA\n",
    "The annotated data is added manually. <br>\n",
    "To convert the annotated data to a clean dataset, we call scripts/converter.py\n",
    "This script:\n",
    "- removes non-alphanumeric characters\n",
    "- add all answer start character positions\n",
    "- converts the Dataframe to the correct model input, which is saved at data/dataV3.json"
   ]
  },
  {
   "cell_type": "code",
   "execution_count": null,
   "metadata": {},
   "outputs": [],
   "source": [
    "# Run crawler\n",
    "!python3 /scripts/converter.py"
   ]
  },
  {
   "cell_type": "code",
   "execution_count": 3,
   "metadata": {},
   "outputs": [
    {
     "data": {
      "text/html": [
       "<div>\n",
       "<style scoped>\n",
       "    .dataframe tbody tr th:only-of-type {\n",
       "        vertical-align: middle;\n",
       "    }\n",
       "\n",
       "    .dataframe tbody tr th {\n",
       "        vertical-align: top;\n",
       "    }\n",
       "\n",
       "    .dataframe thead th {\n",
       "        text-align: right;\n",
       "    }\n",
       "</style>\n",
       "<table border=\"1\" class=\"dataframe\">\n",
       "  <thead>\n",
       "    <tr style=\"text-align: right;\">\n",
       "      <th></th>\n",
       "      <th>Unnamed: 0</th>\n",
       "      <th>Unnamed: 0.1</th>\n",
       "      <th>id</th>\n",
       "      <th>type</th>\n",
       "      <th>answer_start</th>\n",
       "      <th>answer_short</th>\n",
       "      <th>question</th>\n",
       "      <th>introductioncontent</th>\n",
       "      <th>introduction</th>\n",
       "      <th>content</th>\n",
       "    </tr>\n",
       "  </thead>\n",
       "  <tbody>\n",
       "    <tr>\n",
       "      <th>0</th>\n",
       "      <td>0</td>\n",
       "      <td>0</td>\n",
       "      <td>b98b7797-7d40-43a7-bc6d-bf7f96d31dd0</td>\n",
       "      <td>vraag en antwoord</td>\n",
       "      <td>133</td>\n",
       "      <td>5 jaar te bewaren</td>\n",
       "      <td>Hoe lang moet ik mijn financiële administratie...</td>\n",
       "      <td>voor particulieren geldt geen wettelijke bewaa...</td>\n",
       "      <td>&lt;p&gt;Voor particulieren geldt geen wettelijke be...</td>\n",
       "      <td>[{'paragraphtitle': 'Geen bewaarplicht voor pa...</td>\n",
       "    </tr>\n",
       "    <tr>\n",
       "      <th>1</th>\n",
       "      <td>1</td>\n",
       "      <td>0</td>\n",
       "      <td>a59a7ef3-8c7c-4d38-9a6a-142a9fca6eec</td>\n",
       "      <td>vraag en antwoord</td>\n",
       "      <td>28</td>\n",
       "      <td>overeenkomst tussen 2 landen</td>\n",
       "      <td>Wat is een belastingverdrag?</td>\n",
       "      <td>een belastingverdrag is een overeenkomst tusse...</td>\n",
       "      <td>&lt;p&gt;Een belastingverdrag is een overeenkomst tu...</td>\n",
       "      <td>[{'paragraphtitle': 'Toepassen van het belasti...</td>\n",
       "    </tr>\n",
       "    <tr>\n",
       "      <th>2</th>\n",
       "      <td>2</td>\n",
       "      <td>0</td>\n",
       "      <td>193accef-6ff6-4a05-a89c-b6ff37389745</td>\n",
       "      <td>vraag en antwoord</td>\n",
       "      <td>87</td>\n",
       "      <td>gegevens slecht leesbaar? dan is uw reisdocume...</td>\n",
       "      <td>Is mijn beschadigde paspoort of identiteitskaa...</td>\n",
       "      <td>zijn de echtheidskenmerken van uw paspoort of ...</td>\n",
       "      <td>&lt;p&gt;Zijn de echtheidskenmerken van uw paspoort ...</td>\n",
       "      <td>[{'paragraphtitle': 'Nieuw reisdocument aanvra...</td>\n",
       "    </tr>\n",
       "    <tr>\n",
       "      <th>3</th>\n",
       "      <td>3</td>\n",
       "      <td>0</td>\n",
       "      <td>913baae5-4e13-4270-bab2-d8035a15f032</td>\n",
       "      <td>vraag en antwoord</td>\n",
       "      <td>42</td>\n",
       "      <td>niet verplicht om een kopie of een scan van uw...</td>\n",
       "      <td>Moet een bank een kopie van mijn paspoort make...</td>\n",
       "      <td>banken en financiële dienstverleners zijn niet...</td>\n",
       "      <td>&lt;p&gt;Banken en financiële dienstverleners zijn n...</td>\n",
       "      <td>[{'paragraphtitle': 'Financiële instelling doe...</td>\n",
       "    </tr>\n",
       "    <tr>\n",
       "      <th>4</th>\n",
       "      <td>4</td>\n",
       "      <td>0</td>\n",
       "      <td>1c255df3-9d57-4d26-a4d9-7637b54d47e6</td>\n",
       "      <td>vraag en antwoord</td>\n",
       "      <td>220</td>\n",
       "      <td>makkelijker om prijzen te vergelijken</td>\n",
       "      <td>Waarom is de euro ingevoerd?</td>\n",
       "      <td>er zijn een aantal redenen voor de invoering v...</td>\n",
       "      <td>&lt;p&gt;Er zijn een aantal redenen voor de invoerin...</td>\n",
       "      <td>[{'paragraphtitle': 'Einde aan schommelende wi...</td>\n",
       "    </tr>\n",
       "  </tbody>\n",
       "</table>\n",
       "</div>"
      ],
      "text/plain": [
       "   Unnamed: 0  Unnamed: 0.1                                    id  \\\n",
       "0           0             0  b98b7797-7d40-43a7-bc6d-bf7f96d31dd0   \n",
       "1           1             0  a59a7ef3-8c7c-4d38-9a6a-142a9fca6eec   \n",
       "2           2             0  193accef-6ff6-4a05-a89c-b6ff37389745   \n",
       "3           3             0  913baae5-4e13-4270-bab2-d8035a15f032   \n",
       "4           4             0  1c255df3-9d57-4d26-a4d9-7637b54d47e6   \n",
       "\n",
       "                type  answer_start  \\\n",
       "0  vraag en antwoord           133   \n",
       "1  vraag en antwoord            28   \n",
       "2  vraag en antwoord            87   \n",
       "3  vraag en antwoord            42   \n",
       "4  vraag en antwoord           220   \n",
       "\n",
       "                                        answer_short  \\\n",
       "0                                  5 jaar te bewaren   \n",
       "1                       overeenkomst tussen 2 landen   \n",
       "2  gegevens slecht leesbaar? dan is uw reisdocume...   \n",
       "3  niet verplicht om een kopie of een scan van uw...   \n",
       "4              makkelijker om prijzen te vergelijken   \n",
       "\n",
       "                                            question  \\\n",
       "0  Hoe lang moet ik mijn financiële administratie...   \n",
       "1                       Wat is een belastingverdrag?   \n",
       "2  Is mijn beschadigde paspoort of identiteitskaa...   \n",
       "3  Moet een bank een kopie van mijn paspoort make...   \n",
       "4                       Waarom is de euro ingevoerd?   \n",
       "\n",
       "                                 introductioncontent  \\\n",
       "0  voor particulieren geldt geen wettelijke bewaa...   \n",
       "1  een belastingverdrag is een overeenkomst tusse...   \n",
       "2  zijn de echtheidskenmerken van uw paspoort of ...   \n",
       "3  banken en financiële dienstverleners zijn niet...   \n",
       "4  er zijn een aantal redenen voor de invoering v...   \n",
       "\n",
       "                                        introduction  \\\n",
       "0  <p>Voor particulieren geldt geen wettelijke be...   \n",
       "1  <p>Een belastingverdrag is een overeenkomst tu...   \n",
       "2  <p>Zijn de echtheidskenmerken van uw paspoort ...   \n",
       "3  <p>Banken en financiële dienstverleners zijn n...   \n",
       "4  <p>Er zijn een aantal redenen voor de invoerin...   \n",
       "\n",
       "                                             content  \n",
       "0  [{'paragraphtitle': 'Geen bewaarplicht voor pa...  \n",
       "1  [{'paragraphtitle': 'Toepassen van het belasti...  \n",
       "2  [{'paragraphtitle': 'Nieuw reisdocument aanvra...  \n",
       "3  [{'paragraphtitle': 'Financiële instelling doe...  \n",
       "4  [{'paragraphtitle': 'Einde aan schommelende wi...  "
      ]
     },
     "execution_count": 3,
     "metadata": {},
     "output_type": "execute_result"
    }
   ],
   "source": [
    "# Read annotated cleaned csv\n",
    "df = pd.read_csv('../data/policyqa-annotated-clean.csv')\n",
    "df.head()"
   ]
  },
  {
   "cell_type": "code",
   "execution_count": 4,
   "metadata": {},
   "outputs": [],
   "source": [
    "# Drop first 2 columns\n",
    "df = df.iloc[: , 2:]"
   ]
  },
  {
   "cell_type": "markdown",
   "metadata": {},
   "source": [
    "#### Charts for dataset statistics\n",
    "- Number of characters\n",
    "- Number of words"
   ]
  },
  {
   "cell_type": "code",
   "execution_count": 6,
   "metadata": {},
   "outputs": [
    {
     "data": {
      "image/png": "[encoded data removed]",
      "text/plain": [
       "<Figure size 432x288 with 1 Axes>"
      ]
     },
     "metadata": {
      "needs_background": "light"
     },
     "output_type": "display_data"
    }
   ],
   "source": [
    "def plot_character_length_histogram(text):\n",
    "    text.str.len().\\\n",
    "        hist().set(xlabel='Character length', ylabel='Count', title='Character length histogram (Context)')\n",
    "\n",
    "plot_character_length_histogram(df['introductioncontent'])"
   ]
  },
  {
   "cell_type": "markdown",
   "metadata": {},
   "source": [
    "The histogram shows that questions range from 10 to 100 characters and generally, it is between 30 and 70 characters"
   ]
  },
  {
   "cell_type": "code",
   "execution_count": 5,
   "metadata": {},
   "outputs": [
    {
     "ename": "NameError",
     "evalue": "name 'plot_character_length_histogram' is not defined",
     "output_type": "error",
     "traceback": [
      "\u001b[0;31m---------------------------------------------------------------------------\u001b[0m",
      "\u001b[0;31mNameError\u001b[0m                                 Traceback (most recent call last)",
      "\u001b[0;32m/var/folders/z8/mnh7b0x15b73wxpj_pgc93vr0000gn/T/ipykernel_47931/2370778288.py\u001b[0m in \u001b[0;36m<module>\u001b[0;34m\u001b[0m\n\u001b[0;32m----> 1\u001b[0;31m \u001b[0mplot_character_length_histogram\u001b[0m\u001b[0;34m(\u001b[0m\u001b[0mdf\u001b[0m\u001b[0;34m[\u001b[0m\u001b[0;34m'introductioncontent'\u001b[0m\u001b[0;34m]\u001b[0m\u001b[0;34m)\u001b[0m\u001b[0;34m\u001b[0m\u001b[0;34m\u001b[0m\u001b[0m\n\u001b[0m",
      "\u001b[0;31mNameError\u001b[0m: name 'plot_character_length_histogram' is not defined"
     ]
    }
   ],
   "source": [
    "plot_character_length_histogram(df['introductioncontent'])"
   ]
  },
  {
   "cell_type": "markdown",
   "metadata": {},
   "source": [
    "The histogram shows that questions range from 300 to 5800 characters and generally, it is between 900 and 1900 characters"
   ]
  },
  {
   "cell_type": "code",
   "execution_count": 69,
   "metadata": {},
   "outputs": [
    {
     "data": {
      "text/plain": [
       "<AxesSubplot:>"
      ]
     },
     "execution_count": 69,
     "metadata": {},
     "output_type": "execute_result"
    },
    {
     "data": {
      "image/png": "[encoded data removed]",
      "text/plain": [
       "<Figure size 432x288 with 1 Axes>"
      ]
     },
     "metadata": {
      "needs_background": "light"
     },
     "output_type": "display_data"
    }
   ],
   "source": [
    "df['question'].str.split().\\\n",
    "    map(lambda x: len(x)).\\\n",
    "    hist()\n",
    "\n",
    "# we can see that the number of words range from 3 to 15"
   ]
  },
  {
   "cell_type": "code",
   "execution_count": 71,
   "metadata": {},
   "outputs": [
    {
     "data": {
      "text/plain": [
       "<AxesSubplot:>"
      ]
     },
     "execution_count": 71,
     "metadata": {},
     "output_type": "execute_result"
    },
    {
     "data": {
      "image/png": "[encoded data removed]",
      "text/plain": [
       "<Figure size 432x288 with 1 Axes>"
      ]
     },
     "metadata": {
      "needs_background": "light"
     },
     "output_type": "display_data"
    }
   ],
   "source": [
    "df['question'].str.split().\\\n",
    "   apply(lambda x : [len(i) for i in x]). \\\n",
    "   map(lambda x: np.mean(x)).hist()\n",
    "\n",
    "# The average word lenght is 5.5"
   ]
  },
  {
   "cell_type": "code",
   "execution_count": 11,
   "metadata": {},
   "outputs": [
    {
     "name": "stderr",
     "output_type": "stream",
     "text": [
      "[nltk_data] Downloading package stopwords to /Users/berry/nltk_data...\n",
      "[nltk_data]   Package stopwords is already up-to-date!\n"
     ]
    },
    {
     "ename": "NameError",
     "evalue": "name 'stopwords' is not defined",
     "output_type": "error",
     "traceback": [
      "\u001b[0;31m---------------------------------------------------------------------------\u001b[0m",
      "\u001b[0;31mNameError\u001b[0m                                 Traceback (most recent call last)",
      "\u001b[0;32m/var/folders/z8/mnh7b0x15b73wxpj_pgc93vr0000gn/T/ipykernel_47931/3392008153.py\u001b[0m in \u001b[0;36m<module>\u001b[0;34m\u001b[0m\n\u001b[1;32m      1\u001b[0m \u001b[0;32mimport\u001b[0m \u001b[0mnltk\u001b[0m\u001b[0;34m\u001b[0m\u001b[0;34m\u001b[0m\u001b[0m\n\u001b[1;32m      2\u001b[0m \u001b[0mnltk\u001b[0m\u001b[0;34m.\u001b[0m\u001b[0mdownload\u001b[0m\u001b[0;34m(\u001b[0m\u001b[0;34m'stopwords'\u001b[0m\u001b[0;34m)\u001b[0m\u001b[0;34m\u001b[0m\u001b[0;34m\u001b[0m\u001b[0m\n\u001b[0;32m----> 3\u001b[0;31m \u001b[0mstop\u001b[0m\u001b[0;34m=\u001b[0m\u001b[0mset\u001b[0m\u001b[0;34m(\u001b[0m\u001b[0mstopwords\u001b[0m\u001b[0;34m.\u001b[0m\u001b[0mwords\u001b[0m\u001b[0;34m(\u001b[0m\u001b[0;34m'dutch'\u001b[0m\u001b[0;34m)\u001b[0m\u001b[0;34m)\u001b[0m\u001b[0;34m\u001b[0m\u001b[0;34m\u001b[0m\u001b[0m\n\u001b[0m",
      "\u001b[0;31mNameError\u001b[0m: name 'stopwords' is not defined"
     ]
    }
   ],
   "source": [
    "import nltk\n",
    "nltk.download('stopwords')\n",
    "stop=set(stopwords.words('dutch'))"
   ]
  },
  {
   "cell_type": "code",
   "execution_count": 10,
   "metadata": {},
   "outputs": [
    {
     "ename": "NameError",
     "evalue": "name 'stop' is not defined",
     "output_type": "error",
     "traceback": [
      "\u001b[0;31m---------------------------------------------------------------------------\u001b[0m",
      "\u001b[0;31mNameError\u001b[0m                                 Traceback (most recent call last)",
      "\u001b[0;32m/var/folders/z8/mnh7b0x15b73wxpj_pgc93vr0000gn/T/ipykernel_47931/837275086.py\u001b[0m in \u001b[0;36m<module>\u001b[0;34m\u001b[0m\n\u001b[1;32m      7\u001b[0m \u001b[0mdic\u001b[0m\u001b[0;34m=\u001b[0m\u001b[0mdefaultdict\u001b[0m\u001b[0;34m(\u001b[0m\u001b[0mint\u001b[0m\u001b[0;34m)\u001b[0m\u001b[0;34m\u001b[0m\u001b[0;34m\u001b[0m\u001b[0m\n\u001b[1;32m      8\u001b[0m \u001b[0;32mfor\u001b[0m \u001b[0mword\u001b[0m \u001b[0;32min\u001b[0m \u001b[0mcorpus\u001b[0m\u001b[0;34m:\u001b[0m\u001b[0;34m\u001b[0m\u001b[0;34m\u001b[0m\u001b[0m\n\u001b[0;32m----> 9\u001b[0;31m     \u001b[0;32mif\u001b[0m \u001b[0mword\u001b[0m \u001b[0;32min\u001b[0m \u001b[0mstop\u001b[0m\u001b[0;34m:\u001b[0m\u001b[0;34m\u001b[0m\u001b[0;34m\u001b[0m\u001b[0m\n\u001b[0m\u001b[1;32m     10\u001b[0m         \u001b[0mdic\u001b[0m\u001b[0;34m[\u001b[0m\u001b[0mword\u001b[0m\u001b[0;34m]\u001b[0m\u001b[0;34m+=\u001b[0m\u001b[0;36m1\u001b[0m\u001b[0;34m\u001b[0m\u001b[0;34m\u001b[0m\u001b[0m\n",
      "\u001b[0;31mNameError\u001b[0m: name 'stop' is not defined"
     ]
    }
   ],
   "source": [
    "corpus=[]\n",
    "new= df['question'].str.split()\n",
    "new=new.values.tolist()\n",
    "corpus=[word for i in new for word in i]\n",
    "\n",
    "from collections import defaultdict\n",
    "dic=defaultdict(int)\n",
    "for word in corpus:\n",
    "    if word in stop:\n",
    "        dic[word]+=1"
   ]
  },
  {
   "cell_type": "code",
   "execution_count": 9,
   "metadata": {},
   "outputs": [],
   "source": [
    "def plot_top_stopwords_barchart(text):\n",
    "    stop=set(stopwords.words('dutch'))\n",
    "    \n",
    "    new= text.str.split()\n",
    "    new=new.values.tolist()\n",
    "    corpus=[word for i in new for word in i]\n",
    "    from collections import defaultdict\n",
    "    dic=defaultdict(int)\n",
    "    for word in corpus:\n",
    "        if word in stop:\n",
    "            dic[word]+=1\n",
    "            \n",
    "    top=sorted(dic.items(), key=lambda x:x[1],reverse=True)[:10] \n",
    "    x,y=zip(*top)\n",
    "    plt.bar(x,y)"
   ]
  },
  {
   "cell_type": "code",
   "execution_count": 8,
   "metadata": {},
   "outputs": [
    {
     "ename": "NameError",
     "evalue": "name 'stopwords' is not defined",
     "output_type": "error",
     "traceback": [
      "\u001b[0;31m---------------------------------------------------------------------------\u001b[0m",
      "\u001b[0;31mNameError\u001b[0m                                 Traceback (most recent call last)",
      "\u001b[0;32m/var/folders/z8/mnh7b0x15b73wxpj_pgc93vr0000gn/T/ipykernel_47931/791039884.py\u001b[0m in \u001b[0;36m<module>\u001b[0;34m\u001b[0m\n\u001b[0;32m----> 1\u001b[0;31m \u001b[0mplot_top_stopwords_barchart\u001b[0m\u001b[0;34m(\u001b[0m\u001b[0mdf\u001b[0m\u001b[0;34m[\u001b[0m\u001b[0;34m'question'\u001b[0m\u001b[0;34m]\u001b[0m\u001b[0;34m)\u001b[0m\u001b[0;34m\u001b[0m\u001b[0;34m\u001b[0m\u001b[0m\n\u001b[0m\u001b[1;32m      2\u001b[0m \u001b[0;31m# We can see that stopwords like Ik (I), een (a), mijn (my), etc. are the most frequent stopwords.\u001b[0m\u001b[0;34m\u001b[0m\u001b[0;34m\u001b[0m\u001b[0m\n",
      "\u001b[0;32m/var/folders/z8/mnh7b0x15b73wxpj_pgc93vr0000gn/T/ipykernel_47931/2423677325.py\u001b[0m in \u001b[0;36mplot_top_stopwords_barchart\u001b[0;34m(text)\u001b[0m\n\u001b[1;32m      1\u001b[0m \u001b[0;32mdef\u001b[0m \u001b[0mplot_top_stopwords_barchart\u001b[0m\u001b[0;34m(\u001b[0m\u001b[0mtext\u001b[0m\u001b[0;34m)\u001b[0m\u001b[0;34m:\u001b[0m\u001b[0;34m\u001b[0m\u001b[0;34m\u001b[0m\u001b[0m\n\u001b[0;32m----> 2\u001b[0;31m     \u001b[0mstop\u001b[0m\u001b[0;34m=\u001b[0m\u001b[0mset\u001b[0m\u001b[0;34m(\u001b[0m\u001b[0mstopwords\u001b[0m\u001b[0;34m.\u001b[0m\u001b[0mwords\u001b[0m\u001b[0;34m(\u001b[0m\u001b[0;34m'dutch'\u001b[0m\u001b[0;34m)\u001b[0m\u001b[0;34m)\u001b[0m\u001b[0;34m\u001b[0m\u001b[0;34m\u001b[0m\u001b[0m\n\u001b[0m\u001b[1;32m      3\u001b[0m \u001b[0;34m\u001b[0m\u001b[0m\n\u001b[1;32m      4\u001b[0m     \u001b[0mnew\u001b[0m\u001b[0;34m=\u001b[0m \u001b[0mtext\u001b[0m\u001b[0;34m.\u001b[0m\u001b[0mstr\u001b[0m\u001b[0;34m.\u001b[0m\u001b[0msplit\u001b[0m\u001b[0;34m(\u001b[0m\u001b[0;34m)\u001b[0m\u001b[0;34m\u001b[0m\u001b[0;34m\u001b[0m\u001b[0m\n\u001b[1;32m      5\u001b[0m     \u001b[0mnew\u001b[0m\u001b[0;34m=\u001b[0m\u001b[0mnew\u001b[0m\u001b[0;34m.\u001b[0m\u001b[0mvalues\u001b[0m\u001b[0;34m.\u001b[0m\u001b[0mtolist\u001b[0m\u001b[0;34m(\u001b[0m\u001b[0;34m)\u001b[0m\u001b[0;34m\u001b[0m\u001b[0;34m\u001b[0m\u001b[0m\n",
      "\u001b[0;31mNameError\u001b[0m: name 'stopwords' is not defined"
     ]
    }
   ],
   "source": [
    "plot_top_stopwords_barchart(df['question'])\n",
    "# We can see that stopwords like Ik (I), een (a), mijn (my), etc. are the most frequent stopwords."
   ]
  },
  {
   "cell_type": "code",
   "execution_count": 60,
   "metadata": {},
   "outputs": [],
   "source": [
    "# Code Snippet for Top Non-Stopwords Barchart\n",
    "\n",
    "import seaborn as sns\n",
    "from nltk.corpus import stopwords\n",
    "from collections import  Counter\n",
    "\n",
    "def plot_top_non_stopwords_barchart(text):\n",
    "    stop=set(stopwords.words('dutch'))\n",
    "    \n",
    "    new= text.str.split()\n",
    "    new=new.values.tolist()\n",
    "    corpus=[word for i in new for word in i]\n",
    "\n",
    "    counter=Counter(corpus)\n",
    "    most=counter.most_common()\n",
    "    x, y=[], []\n",
    "    for word,count in most[:40]:\n",
    "        if (word not in stop):\n",
    "            x.append(word)\n",
    "            y.append(count)\n",
    "            \n",
    "    sns.barplot(x=y,y=x).set(title='Top Non-Stopwords')"
   ]
  },
  {
   "cell_type": "code",
   "execution_count": 61,
   "metadata": {},
   "outputs": [
    {
     "data": {
      "image/png": "[encoded data removed]",
      "text/plain": [
       "<Figure size 432x288 with 1 Axes>"
      ]
     },
     "metadata": {
      "needs_background": "light"
     },
     "output_type": "display_data"
    }
   ],
   "source": [
    "plot_top_non_stopwords_barchart(df['question'])"
   ]
  },
  {
   "cell_type": "code",
   "execution_count": 87,
   "metadata": {},
   "outputs": [
    {
     "data": {
      "image/png": "[encoded data removed]",
      "text/plain": [
       "<Figure size 432x288 with 1 Axes>"
      ]
     },
     "metadata": {
      "needs_background": "light"
     },
     "output_type": "display_data"
    }
   ],
   "source": [
    "plot_top_non_stopwords_barchart(df['introductioncontent'])"
   ]
  },
  {
   "cell_type": "markdown",
   "metadata": {},
   "source": [
    "We can see paragraph and paragraphtitle are common words. These do not add any meaning to the text, so let's remove them. Also the colon (:) and the word title do not add meaning to the text, so we remove those words as well."
   ]
  },
  {
   "cell_type": "code",
   "execution_count": 83,
   "metadata": {},
   "outputs": [],
   "source": [
    "df['introductioncontent'] = df['introductioncontent'].str.replace(r'paragraph', '', regex=True)\n",
    "df['introductioncontent'] = df['introductioncontent'].str.replace(r'paragraphtitle', '', regex=True)\n",
    "df['introductioncontent'] = df['introductioncontent'].str.replace(r':', '', regex=True)\n",
    "df['introductioncontent'] = df['introductioncontent'].str.replace(r'title', '', regex=True)"
   ]
  },
  {
   "cell_type": "code",
   "execution_count": null,
   "metadata": {},
   "outputs": [],
   "source": []
  },
  {
   "cell_type": "code",
   "execution_count": null,
   "metadata": {},
   "outputs": [],
   "source": []
  },
  {
   "cell_type": "code",
   "execution_count": null,
   "metadata": {},
   "outputs": [],
   "source": []
  }
 ],
 "metadata": {
  "interpreter": {
   "hash": "4fba33e78b77f025177f80ea29759b55d5960913694c1540010dc608131b64ce"
  },
  "kernelspec": {
   "display_name": "Python 3.9.7 ('base')",
   "language": "python",
   "name": "python3"
  },
  "language_info": {
   "codemirror_mode": {
    "name": "ipython",
    "version": 3
   },
   "file_extension": ".py",
   "mimetype": "text/x-python",
   "name": "python",
   "nbconvert_exporter": "python",
   "pygments_lexer": "ipython3",
   "version": "3.9.7"
  },
  "orig_nbformat": 4
 },
 "nbformat": 4,
 "nbformat_minor": 2
}
