{
 "cells": [
  {
   "cell_type": "markdown",
   "metadata": {},
   "source": [
    "![Rijksoverheid logo](https://www.rijksoverheid.nl/binaries/content/gallery/rijksoverheid/channel-afbeeldingen/logos/logo-ro.svg)\n",
    "\n",
    "# Dutch Government Policy QA dataset\n",
    "This dataset is open-source and can be found on the open data portal of the [Rijksoverheid](https://www.rijksoverheid.nl/opendata/vac-s). It contains up to 2500 frequently asked questions of Dutch citizens. The questions are concerned with Dutch government policies and contain topics like \"Belasting\", \"Asbest\", or \"Klimaat\".<br>\n",
    "More info about the status and contact information can be found [here](https://data.overheid.nl/dataset/vraag-antwoordcombinaties-van-rijksoverheid-nl#panel-description). <br><br>\n",
    "\n",
    "**How to use:** <br>\n",
    "It is best to use Google Colab and run the notebook to get results"
   ]
  },
  {
   "cell_type": "markdown",
   "metadata": {},
   "source": [
    "### In this notebook:\n",
    "- The Dutch policy QA data is imported via api with a crawler\n",
    "- Initial EDA is performed to check the size, completeness, and volume\n",
    "- The neccessary columns are exported as a csv\n",
    "- A short answer is retrieved manually from the context\n",
    "- Extra EDA is performed with on the final dataset\n",
    "- The PolicyQA dataset is converted to the correct input for the QA model by using our DF to JSON converter\n",
    "- The PolicyQA dataset in JSON format is used as input for the model"
   ]
  },
  {
   "cell_type": "code",
   "execution_count": null,
   "metadata": {},
   "outputs": [],
   "source": [
    "# if using Colab, install necessary libraries\n",
    "%pip install transformers"
   ]
  },
  {
   "cell_type": "code",
   "execution_count": 4,
   "metadata": {},
   "outputs": [],
   "source": [
    "# Import libraries\n",
    "import requests\n",
    "import pandas as pd\n",
    "import numpy as np\n",
    "from pandas.io.json import json_normalize\n",
    "import json\n",
    "import time\n",
    "import matplotlib as plt"
   ]
  },
  {
   "cell_type": "markdown",
   "metadata": {},
   "source": [
    "## Import Data\n",
    "First the data is imported using crawler.py <br>\n",
    "Then the data is checked for volume, completeness etc."
   ]
  },
  {
   "cell_type": "code",
   "execution_count": null,
   "metadata": {},
   "outputs": [],
   "source": [
    "# Run crawler\n",
    "!python3 /scripts/crawler.py"
   ]
  },
  {
   "cell_type": "code",
   "execution_count": 6,
   "metadata": {},
   "outputs": [
    {
     "data": {
      "text/plain": [
       "'/Users/berry/Code/domain-adaptation-transformers-forQA/notebooks'"
      ]
     },
     "execution_count": 6,
     "metadata": {},
     "output_type": "execute_result"
    }
   ],
   "source": [
    "pwd!"
   ]
  },
  {
   "cell_type": "code",
   "execution_count": 7,
   "metadata": {},
   "outputs": [
    {
     "data": {
      "text/html": [
       "<div>\n",
       "<style scoped>\n",
       "    .dataframe tbody tr th:only-of-type {\n",
       "        vertical-align: middle;\n",
       "    }\n",
       "\n",
       "    .dataframe tbody tr th {\n",
       "        vertical-align: top;\n",
       "    }\n",
       "\n",
       "    .dataframe thead th {\n",
       "        text-align: right;\n",
       "    }\n",
       "</style>\n",
       "<table border=\"1\" class=\"dataframe\">\n",
       "  <thead>\n",
       "    <tr style=\"text-align: right;\">\n",
       "      <th></th>\n",
       "      <th>Unnamed: 0</th>\n",
       "      <th>id</th>\n",
       "      <th>type</th>\n",
       "      <th>canonical</th>\n",
       "      <th>dataurl</th>\n",
       "      <th>question</th>\n",
       "      <th>introduction</th>\n",
       "      <th>content</th>\n",
       "      <th>authorities</th>\n",
       "      <th>subjects</th>\n",
       "      <th>themes</th>\n",
       "      <th>organisationalunits</th>\n",
       "      <th>lastmodified</th>\n",
       "      <th>license</th>\n",
       "      <th>rightsholders</th>\n",
       "      <th>language</th>\n",
       "      <th>location</th>\n",
       "    </tr>\n",
       "  </thead>\n",
       "  <tbody>\n",
       "    <tr>\n",
       "      <th>0</th>\n",
       "      <td>0</td>\n",
       "      <td>b98b7797-7d40-43a7-bc6d-bf7f96d31dd0</td>\n",
       "      <td>vraag en antwoord</td>\n",
       "      <td>https://www.rijksoverheid.nl/onderwerpen/inkom...</td>\n",
       "      <td>https://opendata.rijksoverheid.nl/v1/sources/r...</td>\n",
       "      <td>Hoe lang moet ik mijn financiële administratie...</td>\n",
       "      <td>&lt;p&gt;Voor particulieren geldt geen wettelijke be...</td>\n",
       "      <td>[{'paragraphtitle': 'Geen bewaarplicht voor pa...</td>\n",
       "      <td>['Ministerie van Financiën']</td>\n",
       "      <td>['Inkomstenbelasting', 'Zelfstandigen zonder p...</td>\n",
       "      <td>['Economie', 'Belastingen, uitkeringen en toes...</td>\n",
       "      <td>['Ministerie van Financiën']</td>\n",
       "      <td>2021-09-06T12:18:10.872Z</td>\n",
       "      <td>CC0 1.0 Universal</td>\n",
       "      <td>['Ministerie van Algemene Zaken']</td>\n",
       "      <td>nl-NL</td>\n",
       "      <td>Nederland</td>\n",
       "    </tr>\n",
       "    <tr>\n",
       "      <th>1</th>\n",
       "      <td>0</td>\n",
       "      <td>a59a7ef3-8c7c-4d38-9a6a-142a9fca6eec</td>\n",
       "      <td>vraag en antwoord</td>\n",
       "      <td>https://www.rijksoverheid.nl/onderwerpen/belas...</td>\n",
       "      <td>https://opendata.rijksoverheid.nl/v1/sources/r...</td>\n",
       "      <td>Wat is een belastingverdrag?</td>\n",
       "      <td>&lt;p&gt;Een belastingverdrag is een overeenkomst tu...</td>\n",
       "      <td>[{'paragraphtitle': 'Toepassen van het belasti...</td>\n",
       "      <td>['Ministerie van Financiën']</td>\n",
       "      <td>['Belastingverdragen']</td>\n",
       "      <td>['Belastingen, uitkeringen en toeslagen', 'Int...</td>\n",
       "      <td>['Ministerie van Financiën']</td>\n",
       "      <td>2020-06-22T13:12:15.045Z</td>\n",
       "      <td>CC0 1.0 Universal</td>\n",
       "      <td>['Ministerie van Algemene Zaken']</td>\n",
       "      <td>nl-NL</td>\n",
       "      <td>Nederland</td>\n",
       "    </tr>\n",
       "    <tr>\n",
       "      <th>2</th>\n",
       "      <td>0</td>\n",
       "      <td>193accef-6ff6-4a05-a89c-b6ff37389745</td>\n",
       "      <td>vraag en antwoord</td>\n",
       "      <td>https://www.rijksoverheid.nl/onderwerpen/paspo...</td>\n",
       "      <td>https://opendata.rijksoverheid.nl/v1/sources/r...</td>\n",
       "      <td>Is mijn beschadigde paspoort of identiteitskaa...</td>\n",
       "      <td>&lt;p&gt;Zijn de echtheidskenmerken van uw paspoort ...</td>\n",
       "      <td>[{'paragraphtitle': 'Nieuw reisdocument aanvra...</td>\n",
       "      <td>['Ministerie van Binnenlandse Zaken en Koninkr...</td>\n",
       "      <td>['Paspoort en identiteitskaart']</td>\n",
       "      <td>['Migratie en reizen', 'Recht, veiligheid en d...</td>\n",
       "      <td>['Ministerie van Binnenlandse Zaken en Koninkr...</td>\n",
       "      <td>2018-01-03T10:05:53.606Z</td>\n",
       "      <td>CC0 1.0 Universal</td>\n",
       "      <td>['Ministerie van Algemene Zaken']</td>\n",
       "      <td>nl-NL</td>\n",
       "      <td>Nederland</td>\n",
       "    </tr>\n",
       "    <tr>\n",
       "      <th>3</th>\n",
       "      <td>0</td>\n",
       "      <td>913baae5-4e13-4270-bab2-d8035a15f032</td>\n",
       "      <td>vraag en antwoord</td>\n",
       "      <td>https://www.rijksoverheid.nl/onderwerpen/besch...</td>\n",
       "      <td>https://opendata.rijksoverheid.nl/v1/sources/r...</td>\n",
       "      <td>Moet een bank een kopie van mijn paspoort make...</td>\n",
       "      <td>&lt;p&gt;Banken en financiële dienstverleners zijn n...</td>\n",
       "      <td>[{'paragraphtitle': 'Financiële instelling doe...</td>\n",
       "      <td>['Ministerie van Financiën']</td>\n",
       "      <td>['Bescherming van consumenten', 'Financiële se...</td>\n",
       "      <td>['Economie', 'Recht, veiligheid en defensie']</td>\n",
       "      <td>['Ministerie van Financiën']</td>\n",
       "      <td>2022-02-04T12:48:50.668Z</td>\n",
       "      <td>CC0 1.0 Universal</td>\n",
       "      <td>['Ministerie van Algemene Zaken']</td>\n",
       "      <td>nl-NL</td>\n",
       "      <td>Nederland</td>\n",
       "    </tr>\n",
       "    <tr>\n",
       "      <th>4</th>\n",
       "      <td>0</td>\n",
       "      <td>1c255df3-9d57-4d26-a4d9-7637b54d47e6</td>\n",
       "      <td>vraag en antwoord</td>\n",
       "      <td>https://www.rijksoverheid.nl/onderwerpen/geldz...</td>\n",
       "      <td>https://opendata.rijksoverheid.nl/v1/sources/r...</td>\n",
       "      <td>Waarom is de euro ingevoerd?</td>\n",
       "      <td>&lt;p&gt;Er zijn een aantal redenen voor de invoerin...</td>\n",
       "      <td>[{'paragraphtitle': 'Einde aan schommelende wi...</td>\n",
       "      <td>['Ministerie van Financiën']</td>\n",
       "      <td>['Geldzaken', 'Financiën Europese Unie']</td>\n",
       "      <td>['Economie', 'Internationale samenwerking']</td>\n",
       "      <td>['Ministerie van Financiën']</td>\n",
       "      <td>2021-08-24T08:34:50.465Z</td>\n",
       "      <td>CC0 1.0 Universal</td>\n",
       "      <td>['Ministerie van Algemene Zaken']</td>\n",
       "      <td>nl-NL</td>\n",
       "      <td>Nederland</td>\n",
       "    </tr>\n",
       "  </tbody>\n",
       "</table>\n",
       "</div>"
      ],
      "text/plain": [
       "   Unnamed: 0                                    id               type  \\\n",
       "0           0  b98b7797-7d40-43a7-bc6d-bf7f96d31dd0  vraag en antwoord   \n",
       "1           0  a59a7ef3-8c7c-4d38-9a6a-142a9fca6eec  vraag en antwoord   \n",
       "2           0  193accef-6ff6-4a05-a89c-b6ff37389745  vraag en antwoord   \n",
       "3           0  913baae5-4e13-4270-bab2-d8035a15f032  vraag en antwoord   \n",
       "4           0  1c255df3-9d57-4d26-a4d9-7637b54d47e6  vraag en antwoord   \n",
       "\n",
       "                                           canonical  \\\n",
       "0  https://www.rijksoverheid.nl/onderwerpen/inkom...   \n",
       "1  https://www.rijksoverheid.nl/onderwerpen/belas...   \n",
       "2  https://www.rijksoverheid.nl/onderwerpen/paspo...   \n",
       "3  https://www.rijksoverheid.nl/onderwerpen/besch...   \n",
       "4  https://www.rijksoverheid.nl/onderwerpen/geldz...   \n",
       "\n",
       "                                             dataurl  \\\n",
       "0  https://opendata.rijksoverheid.nl/v1/sources/r...   \n",
       "1  https://opendata.rijksoverheid.nl/v1/sources/r...   \n",
       "2  https://opendata.rijksoverheid.nl/v1/sources/r...   \n",
       "3  https://opendata.rijksoverheid.nl/v1/sources/r...   \n",
       "4  https://opendata.rijksoverheid.nl/v1/sources/r...   \n",
       "\n",
       "                                            question  \\\n",
       "0  Hoe lang moet ik mijn financiële administratie...   \n",
       "1                       Wat is een belastingverdrag?   \n",
       "2  Is mijn beschadigde paspoort of identiteitskaa...   \n",
       "3  Moet een bank een kopie van mijn paspoort make...   \n",
       "4                       Waarom is de euro ingevoerd?   \n",
       "\n",
       "                                        introduction  \\\n",
       "0  <p>Voor particulieren geldt geen wettelijke be...   \n",
       "1  <p>Een belastingverdrag is een overeenkomst tu...   \n",
       "2  <p>Zijn de echtheidskenmerken van uw paspoort ...   \n",
       "3  <p>Banken en financiële dienstverleners zijn n...   \n",
       "4  <p>Er zijn een aantal redenen voor de invoerin...   \n",
       "\n",
       "                                             content  \\\n",
       "0  [{'paragraphtitle': 'Geen bewaarplicht voor pa...   \n",
       "1  [{'paragraphtitle': 'Toepassen van het belasti...   \n",
       "2  [{'paragraphtitle': 'Nieuw reisdocument aanvra...   \n",
       "3  [{'paragraphtitle': 'Financiële instelling doe...   \n",
       "4  [{'paragraphtitle': 'Einde aan schommelende wi...   \n",
       "\n",
       "                                         authorities  \\\n",
       "0                       ['Ministerie van Financiën']   \n",
       "1                       ['Ministerie van Financiën']   \n",
       "2  ['Ministerie van Binnenlandse Zaken en Koninkr...   \n",
       "3                       ['Ministerie van Financiën']   \n",
       "4                       ['Ministerie van Financiën']   \n",
       "\n",
       "                                            subjects  \\\n",
       "0  ['Inkomstenbelasting', 'Zelfstandigen zonder p...   \n",
       "1                             ['Belastingverdragen']   \n",
       "2                   ['Paspoort en identiteitskaart']   \n",
       "3  ['Bescherming van consumenten', 'Financiële se...   \n",
       "4           ['Geldzaken', 'Financiën Europese Unie']   \n",
       "\n",
       "                                              themes  \\\n",
       "0  ['Economie', 'Belastingen, uitkeringen en toes...   \n",
       "1  ['Belastingen, uitkeringen en toeslagen', 'Int...   \n",
       "2  ['Migratie en reizen', 'Recht, veiligheid en d...   \n",
       "3      ['Economie', 'Recht, veiligheid en defensie']   \n",
       "4        ['Economie', 'Internationale samenwerking']   \n",
       "\n",
       "                                 organisationalunits  \\\n",
       "0                       ['Ministerie van Financiën']   \n",
       "1                       ['Ministerie van Financiën']   \n",
       "2  ['Ministerie van Binnenlandse Zaken en Koninkr...   \n",
       "3                       ['Ministerie van Financiën']   \n",
       "4                       ['Ministerie van Financiën']   \n",
       "\n",
       "               lastmodified            license  \\\n",
       "0  2021-09-06T12:18:10.872Z  CC0 1.0 Universal   \n",
       "1  2020-06-22T13:12:15.045Z  CC0 1.0 Universal   \n",
       "2  2018-01-03T10:05:53.606Z  CC0 1.0 Universal   \n",
       "3  2022-02-04T12:48:50.668Z  CC0 1.0 Universal   \n",
       "4  2021-08-24T08:34:50.465Z  CC0 1.0 Universal   \n",
       "\n",
       "                       rightsholders language   location  \n",
       "0  ['Ministerie van Algemene Zaken']    nl-NL  Nederland  \n",
       "1  ['Ministerie van Algemene Zaken']    nl-NL  Nederland  \n",
       "2  ['Ministerie van Algemene Zaken']    nl-NL  Nederland  \n",
       "3  ['Ministerie van Algemene Zaken']    nl-NL  Nederland  \n",
       "4  ['Ministerie van Algemene Zaken']    nl-NL  Nederland  "
      ]
     },
     "execution_count": 7,
     "metadata": {},
     "output_type": "execute_result"
    }
   ],
   "source": [
    "# Import csv\n",
    "df = pd.read_csv('../data/policyqa-raw.csv')\n",
    "df.head()"
   ]
  },
  {
   "cell_type": "markdown",
   "metadata": {},
   "source": [
    "## Initial EDA"
   ]
  },
  {
   "cell_type": "code",
   "execution_count": 8,
   "metadata": {},
   "outputs": [
    {
     "name": "stdout",
     "output_type": "stream",
     "text": [
      "<class 'pandas.core.frame.DataFrame'>\n",
      "RangeIndex: 1988 entries, 0 to 1987\n",
      "Data columns (total 17 columns):\n",
      " #   Column               Non-Null Count  Dtype \n",
      "---  ------               --------------  ----- \n",
      " 0   Unnamed: 0           1988 non-null   int64 \n",
      " 1   id                   1988 non-null   object\n",
      " 2   type                 1988 non-null   object\n",
      " 3   canonical            1988 non-null   object\n",
      " 4   dataurl              1988 non-null   object\n",
      " 5   question             1988 non-null   object\n",
      " 6   introduction         1981 non-null   object\n",
      " 7   content              1917 non-null   object\n",
      " 8   authorities          1988 non-null   object\n",
      " 9   subjects             1978 non-null   object\n",
      " 10  themes               1978 non-null   object\n",
      " 11  organisationalunits  1988 non-null   object\n",
      " 12  lastmodified         1988 non-null   object\n",
      " 13  license              1988 non-null   object\n",
      " 14  rightsholders        1988 non-null   object\n",
      " 15  language             1988 non-null   object\n",
      " 16  location             1988 non-null   object\n",
      "dtypes: int64(1), object(16)\n",
      "memory usage: 264.2+ KB\n"
     ]
    }
   ],
   "source": [
    "# Check info\n",
    "df.info()"
   ]
  },
  {
   "cell_type": "code",
   "execution_count": null,
   "metadata": {},
   "outputs": [],
   "source": [
    "# Check unique themes and organizations\n",
    "df['organisationalunits'].unique()"
   ]
  },
  {
   "cell_type": "markdown",
   "metadata": {},
   "source": [
    "## Clean and export Data\n",
    "We remove HTML tags as well as brackets. Brackets needed to be removed in order to create the input file as JSON.<br>\n",
    "The data is exported so we can annotate the short answer manually."
   ]
  },
  {
   "cell_type": "code",
   "execution_count": null,
   "metadata": {},
   "outputs": [],
   "source": [
    "# Take first 7 columns\n",
    "df = df.iloc[:, 0:7]\n",
    "# Remove column 3 and 4\n",
    "df = df.drop(columns=[\"canonical\", \"dataurl\"])\n",
    "df"
   ]
  },
  {
   "cell_type": "code",
   "execution_count": null,
   "metadata": {},
   "outputs": [],
   "source": []
  },
  {
   "cell_type": "code",
   "execution_count": null,
   "metadata": {},
   "outputs": [],
   "source": [
    "df.to_csv('policyqa-raw.csv', encoding = 'utf-8-sig') "
   ]
  }
 ],
 "metadata": {
  "interpreter": {
   "hash": "b0fa6594d8f4cbf19f97940f81e996739fb7646882a419484c72d19e05852a7e"
  },
  "kernelspec": {
   "display_name": "Python 3.9.10 64-bit",
   "language": "python",
   "name": "python3"
  },
  "language_info": {
   "codemirror_mode": {
    "name": "ipython",
    "version": 3
   },
   "file_extension": ".py",
   "mimetype": "text/x-python",
   "name": "python",
   "nbconvert_exporter": "python",
   "pygments_lexer": "ipython3",
   "version": "3.9.10"
  },
  "orig_nbformat": 4
 },
 "nbformat": 4,
 "nbformat_minor": 2
}
